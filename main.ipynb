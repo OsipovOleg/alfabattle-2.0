{
 "nbformat": 4,
 "nbformat_minor": 0,
 "metadata": {
  "accelerator": "GPU",
  "colab": {
   "name": "viscode.ipynb",
   "provenance": [],
   "collapsed_sections": [],
   "machine_shape": "hm"
  },
  "kernelspec": {
   "display_name": "Python 3",
   "name": "python3"
  }
 },
 "cells": [
  {
   "cell_type": "code",
   "metadata": {
    "colab": {
     "base_uri": "https://localhost:8080/"
    },
    "id": "4tLjkKHKlobE",
    "outputId": "7d15c360-6fcd-4606-c7e2-099192328d70"
   },
   "source": [
    "# Run with Google Colab\n",
    "from google.colab import drive\n",
    "drive.mount('/content/drive')\n",
    "drive_path = \"drive/MyDrive/Colab Notebooks/alfa2/\"\n",
    "\n",
    "\n",
    "# add path to use custom modules\n",
    "import sys\n",
    "sys.path.append(\"drive/MyDrive/Colab Notebooks\")"
   ],
   "execution_count": 2,
   "outputs": [
    {
     "output_type": "stream",
     "text": [
      "Drive already mounted at /content/drive; to attempt to forcibly remount, call drive.mount(\"/content/drive\", force_remount=True).\n"
     ],
     "name": "stdout"
    }
   ]
  },
  {
   "cell_type": "code",
   "metadata": {
    "id": "9Pl0DEFPk_c2"
   },
   "source": [
    "import datetime\n",
    "import os\n",
    "import random\n",
    "from collections import defaultdict\n",
    "import pprint\n",
    "import dill\n",
    "import matplotlib.pyplot as plt\n",
    "import numpy as np\n",
    "import pandas as pd\n",
    "import seaborn as sns\n",
    "import sklearn\n",
    "import xgboost as xgb\n",
    "import importlib\n",
    "\n",
    "\n",
    "from data_utils import create_test_dataset, split_history, expand_by_nan, create_weights, create_train_dataset\n",
    "\n",
    "from numpy.lib.function_base import average\n",
    "from pandas.core.groupby.groupby import get_groupby\n",
    "from sklearn.ensemble import AdaBoostClassifier, RandomForestClassifier\n",
    "from sklearn.metrics import f1_score\n",
    "from sklearn.model_selection import train_test_split\n",
    "from sklearn.neighbors import KNeighborsClassifier\n",
    "from sklearn.preprocessing import LabelEncoder\n",
    "from sklearn.svm import LinearSVC\n",
    "from sklearn.tree import DecisionTreeClassifier\n",
    "from xgboost import XGBClassifier\n",
    "\n",
    "\n",
    "sns.set()\n",
    "plt.rcParams['figure.figsize'] = [10, 4]\n",
    "plt.rcParams['figure.dpi'] = 100\n",
    "plt.style.use('seaborn-whitegrid')\n",
    "np.set_printoptions(precision=4)\n",
    "\n",
    "pd.options.display.max_rows = 50\n",
    "np.set_printoptions(edgeitems=10)\n",
    "np.core.arrayprint._line_width = 500\n",
    "\n",
    "pp = pprint.PrettyPrinter(indent=4)"
   ],
   "execution_count": 3,
   "outputs": []
  },
  {
   "cell_type": "code",
   "metadata": {
    "id": "RqQsi1ndk_c-"
   },
   "source": [
    "seed_value = 42\n",
    "os.environ['PYTHONHASHSEED'] = str(seed_value)\n",
    "random.seed(seed_value)\n",
    "np.random.seed(seed_value)"
   ],
   "execution_count": 4,
   "outputs": []
  },
  {
   "cell_type": "markdown",
   "metadata": {
    "id": "ST2kP4C4k_c_"
   },
   "source": [
    "  ## 1. Prepare datasets"
   ]
  },
  {
   "cell_type": "code",
   "metadata": {
    "id": "NDcapRq8qo43"
   },
   "source": [
    "train_df = pd.read_csv(\n",
    "    drive_path + 'data/alfabattle2_abattle_train_target.csv')\n",
    "train_df.timestamp = pd.to_datetime(train_df.timestamp)\n",
    "\n",
    "timestamps_to_predict = pd.read_csv(\n",
    "    drive_path + 'data/alfabattle2_prediction_session_timestamp.csv')\n",
    "timestamps_to_predict.timestamp = pd.to_datetime(\n",
    "    timestamps_to_predict.timestamp)"
   ],
   "execution_count": 5,
   "outputs": []
  },
  {
   "cell_type": "markdown",
   "metadata": {
    "id": "a_u7-eWY8RFr"
   },
   "source": [
    "### 1.1 Encode datasets"
   ]
  },
  {
   "cell_type": "code",
   "metadata": {
    "id": "WulNTZzNk_dA"
   },
   "source": [
    "session_id_encoder = LabelEncoder()\n",
    "session_id_encoder.fit(train_df.session_id)\n",
    "train_df.session_id = session_id_encoder.transform(train_df.session_id)\n",
    "\n",
    "client_pin_encoder = LabelEncoder()\n",
    "client_pin_encoder.fit(train_df.client_pin)\n",
    "train_df.client_pin = client_pin_encoder.transform(train_df.client_pin)\n",
    "\n",
    "target_action_encoder = LabelEncoder()\n",
    "target_action_encoder.fit(train_df.multi_class_target)\n",
    "train_df.multi_class_target = target_action_encoder.transform(\n",
    "    train_df.multi_class_target)\n",
    "\n",
    "timestamps_to_predict.client_pin = client_pin_encoder.transform(\n",
    "    timestamps_to_predict.client_pin)"
   ],
   "execution_count": 6,
   "outputs": []
  },
  {
   "cell_type": "code",
   "metadata": {
    "colab": {
     "base_uri": "https://localhost:8080/",
     "height": 347
    },
    "id": "DKTZiwwRk_dA",
    "outputId": "f3a5f5de-9258-47be-cd06-2f4aa9f83429"
   },
   "source": [
    "train_df.head(10)"
   ],
   "execution_count": 7,
   "outputs": [
    {
     "output_type": "execute_result",
     "data": {
      "text/html": [
       "<div>\n",
       "<style scoped>\n",
       "    .dataframe tbody tr th:only-of-type {\n",
       "        vertical-align: middle;\n",
       "    }\n",
       "\n",
       "    .dataframe tbody tr th {\n",
       "        vertical-align: top;\n",
       "    }\n",
       "\n",
       "    .dataframe thead th {\n",
       "        text-align: right;\n",
       "    }\n",
       "</style>\n",
       "<table border=\"1\" class=\"dataframe\">\n",
       "  <thead>\n",
       "    <tr style=\"text-align: right;\">\n",
       "      <th></th>\n",
       "      <th>session_id</th>\n",
       "      <th>client_pin</th>\n",
       "      <th>timestamp</th>\n",
       "      <th>multi_class_target</th>\n",
       "    </tr>\n",
       "  </thead>\n",
       "  <tbody>\n",
       "    <tr>\n",
       "      <th>0</th>\n",
       "      <td>1</td>\n",
       "      <td>38671</td>\n",
       "      <td>2020-06-15 14:01:12</td>\n",
       "      <td>5</td>\n",
       "    </tr>\n",
       "    <tr>\n",
       "      <th>1</th>\n",
       "      <td>474</td>\n",
       "      <td>29362</td>\n",
       "      <td>2020-03-21 12:59:34</td>\n",
       "      <td>4</td>\n",
       "    </tr>\n",
       "    <tr>\n",
       "      <th>2</th>\n",
       "      <td>571</td>\n",
       "      <td>73199</td>\n",
       "      <td>2020-01-24 18:18:55</td>\n",
       "      <td>9</td>\n",
       "    </tr>\n",
       "    <tr>\n",
       "      <th>3</th>\n",
       "      <td>811</td>\n",
       "      <td>45313</td>\n",
       "      <td>2020-03-15 19:50:23</td>\n",
       "      <td>5</td>\n",
       "    </tr>\n",
       "    <tr>\n",
       "      <th>4</th>\n",
       "      <td>882</td>\n",
       "      <td>19486</td>\n",
       "      <td>2020-02-20 07:56:58</td>\n",
       "      <td>5</td>\n",
       "    </tr>\n",
       "    <tr>\n",
       "      <th>5</th>\n",
       "      <td>1161</td>\n",
       "      <td>1056</td>\n",
       "      <td>2020-08-15 15:13:00</td>\n",
       "      <td>5</td>\n",
       "    </tr>\n",
       "    <tr>\n",
       "      <th>6</th>\n",
       "      <td>1322</td>\n",
       "      <td>77266</td>\n",
       "      <td>2020-05-17 22:39:59</td>\n",
       "      <td>8</td>\n",
       "    </tr>\n",
       "    <tr>\n",
       "      <th>7</th>\n",
       "      <td>1415</td>\n",
       "      <td>62914</td>\n",
       "      <td>2020-07-23 05:23:22</td>\n",
       "      <td>5</td>\n",
       "    </tr>\n",
       "    <tr>\n",
       "      <th>8</th>\n",
       "      <td>1738</td>\n",
       "      <td>61829</td>\n",
       "      <td>2020-04-26 17:21:26</td>\n",
       "      <td>7</td>\n",
       "    </tr>\n",
       "    <tr>\n",
       "      <th>9</th>\n",
       "      <td>2361</td>\n",
       "      <td>70612</td>\n",
       "      <td>2020-02-28 11:05:01</td>\n",
       "      <td>5</td>\n",
       "    </tr>\n",
       "  </tbody>\n",
       "</table>\n",
       "</div>"
      ],
      "text/plain": [
       "   session_id  client_pin           timestamp  multi_class_target\n",
       "0           1       38671 2020-06-15 14:01:12                   5\n",
       "1         474       29362 2020-03-21 12:59:34                   4\n",
       "2         571       73199 2020-01-24 18:18:55                   9\n",
       "3         811       45313 2020-03-15 19:50:23                   5\n",
       "4         882       19486 2020-02-20 07:56:58                   5\n",
       "5        1161        1056 2020-08-15 15:13:00                   5\n",
       "6        1322       77266 2020-05-17 22:39:59                   8\n",
       "7        1415       62914 2020-07-23 05:23:22                   5\n",
       "8        1738       61829 2020-04-26 17:21:26                   7\n",
       "9        2361       70612 2020-02-28 11:05:01                   5"
      ]
     },
     "metadata": {
      "tags": []
     },
     "execution_count": 7
    }
   ]
  },
  {
   "cell_type": "code",
   "metadata": {
    "colab": {
     "base_uri": "https://localhost:8080/",
     "height": 406
    },
    "id": "5me10OzDk_dB",
    "outputId": "fd07559b-e366-40f3-feed-a88bf92e8c80"
   },
   "source": [
    "# add timestamps for prediction to train_df too\n",
    "temp = timestamps_to_predict.copy()\n",
    "temp['multi_class_target'] = np.nan\n",
    "temp['session_id'] = np.nan\n",
    "train_df = train_df.append(temp)\n",
    "train_df"
   ],
   "execution_count": 8,
   "outputs": [
    {
     "output_type": "execute_result",
     "data": {
      "text/html": [
       "<div>\n",
       "<style scoped>\n",
       "    .dataframe tbody tr th:only-of-type {\n",
       "        vertical-align: middle;\n",
       "    }\n",
       "\n",
       "    .dataframe tbody tr th {\n",
       "        vertical-align: top;\n",
       "    }\n",
       "\n",
       "    .dataframe thead th {\n",
       "        text-align: right;\n",
       "    }\n",
       "</style>\n",
       "<table border=\"1\" class=\"dataframe\">\n",
       "  <thead>\n",
       "    <tr style=\"text-align: right;\">\n",
       "      <th></th>\n",
       "      <th>session_id</th>\n",
       "      <th>client_pin</th>\n",
       "      <th>timestamp</th>\n",
       "      <th>multi_class_target</th>\n",
       "    </tr>\n",
       "  </thead>\n",
       "  <tbody>\n",
       "    <tr>\n",
       "      <th>0</th>\n",
       "      <td>1.0</td>\n",
       "      <td>38671</td>\n",
       "      <td>2020-06-15 14:01:12</td>\n",
       "      <td>5.0</td>\n",
       "    </tr>\n",
       "    <tr>\n",
       "      <th>1</th>\n",
       "      <td>474.0</td>\n",
       "      <td>29362</td>\n",
       "      <td>2020-03-21 12:59:34</td>\n",
       "      <td>4.0</td>\n",
       "    </tr>\n",
       "    <tr>\n",
       "      <th>2</th>\n",
       "      <td>571.0</td>\n",
       "      <td>73199</td>\n",
       "      <td>2020-01-24 18:18:55</td>\n",
       "      <td>9.0</td>\n",
       "    </tr>\n",
       "    <tr>\n",
       "      <th>3</th>\n",
       "      <td>811.0</td>\n",
       "      <td>45313</td>\n",
       "      <td>2020-03-15 19:50:23</td>\n",
       "      <td>5.0</td>\n",
       "    </tr>\n",
       "    <tr>\n",
       "      <th>4</th>\n",
       "      <td>882.0</td>\n",
       "      <td>19486</td>\n",
       "      <td>2020-02-20 07:56:58</td>\n",
       "      <td>5.0</td>\n",
       "    </tr>\n",
       "    <tr>\n",
       "      <th>...</th>\n",
       "      <td>...</td>\n",
       "      <td>...</td>\n",
       "      <td>...</td>\n",
       "      <td>...</td>\n",
       "    </tr>\n",
       "    <tr>\n",
       "      <th>79263</th>\n",
       "      <td>NaN</td>\n",
       "      <td>24286</td>\n",
       "      <td>2020-09-30 23:41:47</td>\n",
       "      <td>NaN</td>\n",
       "    </tr>\n",
       "    <tr>\n",
       "      <th>79264</th>\n",
       "      <td>NaN</td>\n",
       "      <td>28268</td>\n",
       "      <td>2020-09-30 23:43:25</td>\n",
       "      <td>NaN</td>\n",
       "    </tr>\n",
       "    <tr>\n",
       "      <th>79265</th>\n",
       "      <td>NaN</td>\n",
       "      <td>46171</td>\n",
       "      <td>2020-09-30 23:50:37</td>\n",
       "      <td>NaN</td>\n",
       "    </tr>\n",
       "    <tr>\n",
       "      <th>79266</th>\n",
       "      <td>NaN</td>\n",
       "      <td>9896</td>\n",
       "      <td>2020-09-30 23:53:03</td>\n",
       "      <td>NaN</td>\n",
       "    </tr>\n",
       "    <tr>\n",
       "      <th>79267</th>\n",
       "      <td>NaN</td>\n",
       "      <td>70224</td>\n",
       "      <td>2020-09-30 23:58:32</td>\n",
       "      <td>NaN</td>\n",
       "    </tr>\n",
       "  </tbody>\n",
       "</table>\n",
       "<p>5144618 rows × 4 columns</p>\n",
       "</div>"
      ],
      "text/plain": [
       "       session_id  client_pin           timestamp  multi_class_target\n",
       "0             1.0       38671 2020-06-15 14:01:12                 5.0\n",
       "1           474.0       29362 2020-03-21 12:59:34                 4.0\n",
       "2           571.0       73199 2020-01-24 18:18:55                 9.0\n",
       "3           811.0       45313 2020-03-15 19:50:23                 5.0\n",
       "4           882.0       19486 2020-02-20 07:56:58                 5.0\n",
       "...           ...         ...                 ...                 ...\n",
       "79263         NaN       24286 2020-09-30 23:41:47                 NaN\n",
       "79264         NaN       28268 2020-09-30 23:43:25                 NaN\n",
       "79265         NaN       46171 2020-09-30 23:50:37                 NaN\n",
       "79266         NaN        9896 2020-09-30 23:53:03                 NaN\n",
       "79267         NaN       70224 2020-09-30 23:58:32                 NaN\n",
       "\n",
       "[5144618 rows x 4 columns]"
      ]
     },
     "metadata": {
      "tags": []
     },
     "execution_count": 8
    }
   ]
  },
  {
   "cell_type": "markdown",
   "metadata": {
    "id": "7psh8S8ak_dB"
   },
   "source": [
    "### 1.2 Feature extraction/generation"
   ]
  },
  {
   "cell_type": "code",
   "metadata": {
    "colab": {
     "base_uri": "https://localhost:8080/",
     "height": 406
    },
    "id": "58qsdkftk_dB",
    "outputId": "29ec08f7-2095-4415-e885-a8930fef3efc"
   },
   "source": [
    "train_df.drop(columns=['session_id'], inplace=True)\n",
    "train_df.sort_values(by=['client_pin', 'timestamp'], inplace=True)\n",
    "train_df"
   ],
   "execution_count": 9,
   "outputs": [
    {
     "output_type": "execute_result",
     "data": {
      "text/html": [
       "<div>\n",
       "<style scoped>\n",
       "    .dataframe tbody tr th:only-of-type {\n",
       "        vertical-align: middle;\n",
       "    }\n",
       "\n",
       "    .dataframe tbody tr th {\n",
       "        vertical-align: top;\n",
       "    }\n",
       "\n",
       "    .dataframe thead th {\n",
       "        text-align: right;\n",
       "    }\n",
       "</style>\n",
       "<table border=\"1\" class=\"dataframe\">\n",
       "  <thead>\n",
       "    <tr style=\"text-align: right;\">\n",
       "      <th></th>\n",
       "      <th>client_pin</th>\n",
       "      <th>timestamp</th>\n",
       "      <th>multi_class_target</th>\n",
       "    </tr>\n",
       "  </thead>\n",
       "  <tbody>\n",
       "    <tr>\n",
       "      <th>68402</th>\n",
       "      <td>0</td>\n",
       "      <td>2020-02-02 22:31:04</td>\n",
       "      <td>9.0</td>\n",
       "    </tr>\n",
       "    <tr>\n",
       "      <th>4383589</th>\n",
       "      <td>0</td>\n",
       "      <td>2020-02-19 18:37:26</td>\n",
       "      <td>5.0</td>\n",
       "    </tr>\n",
       "    <tr>\n",
       "      <th>3951305</th>\n",
       "      <td>0</td>\n",
       "      <td>2020-02-22 23:18:45</td>\n",
       "      <td>5.0</td>\n",
       "    </tr>\n",
       "    <tr>\n",
       "      <th>3604467</th>\n",
       "      <td>0</td>\n",
       "      <td>2020-02-27 17:29:57</td>\n",
       "      <td>5.0</td>\n",
       "    </tr>\n",
       "    <tr>\n",
       "      <th>1579222</th>\n",
       "      <td>0</td>\n",
       "      <td>2020-03-04 22:39:45</td>\n",
       "      <td>5.0</td>\n",
       "    </tr>\n",
       "    <tr>\n",
       "      <th>...</th>\n",
       "      <td>...</td>\n",
       "      <td>...</td>\n",
       "      <td>...</td>\n",
       "    </tr>\n",
       "    <tr>\n",
       "      <th>3540598</th>\n",
       "      <td>79267</td>\n",
       "      <td>2020-09-11 21:15:13</td>\n",
       "      <td>9.0</td>\n",
       "    </tr>\n",
       "    <tr>\n",
       "      <th>4341224</th>\n",
       "      <td>79267</td>\n",
       "      <td>2020-09-12 09:18:15</td>\n",
       "      <td>6.0</td>\n",
       "    </tr>\n",
       "    <tr>\n",
       "      <th>2621133</th>\n",
       "      <td>79267</td>\n",
       "      <td>2020-09-13 21:38:16</td>\n",
       "      <td>8.0</td>\n",
       "    </tr>\n",
       "    <tr>\n",
       "      <th>682309</th>\n",
       "      <td>79267</td>\n",
       "      <td>2020-09-14 04:12:49</td>\n",
       "      <td>9.0</td>\n",
       "    </tr>\n",
       "    <tr>\n",
       "      <th>57059</th>\n",
       "      <td>79267</td>\n",
       "      <td>2020-09-14 11:04:11</td>\n",
       "      <td>NaN</td>\n",
       "    </tr>\n",
       "  </tbody>\n",
       "</table>\n",
       "<p>5144618 rows × 3 columns</p>\n",
       "</div>"
      ],
      "text/plain": [
       "         client_pin           timestamp  multi_class_target\n",
       "68402             0 2020-02-02 22:31:04                 9.0\n",
       "4383589           0 2020-02-19 18:37:26                 5.0\n",
       "3951305           0 2020-02-22 23:18:45                 5.0\n",
       "3604467           0 2020-02-27 17:29:57                 5.0\n",
       "1579222           0 2020-03-04 22:39:45                 5.0\n",
       "...             ...                 ...                 ...\n",
       "3540598       79267 2020-09-11 21:15:13                 9.0\n",
       "4341224       79267 2020-09-12 09:18:15                 6.0\n",
       "2621133       79267 2020-09-13 21:38:16                 8.0\n",
       "682309        79267 2020-09-14 04:12:49                 9.0\n",
       "57059         79267 2020-09-14 11:04:11                 NaN\n",
       "\n",
       "[5144618 rows x 3 columns]"
      ]
     },
     "metadata": {
      "tags": []
     },
     "execution_count": 9
    }
   ]
  },
  {
   "cell_type": "code",
   "metadata": {
    "colab": {
     "base_uri": "https://localhost:8080/",
     "height": 406
    },
    "id": "S7R5nSW6k_dC",
    "outputId": "a1b6fedd-4169-42bf-abf0-61fde7716dc2"
   },
   "source": [
    "grouped_by_client_pin = train_df.groupby(by='client_pin')\n",
    "train_df['day_of_week'] = train_df.timestamp.dt.dayofweek\n",
    "train_df['hour'] = train_df.timestamp.dt.hour\n",
    "train_df['time_interval'] = grouped_by_client_pin.timestamp.diff().dt.total_seconds().fillna(0)/3600/24\n",
    "train_df.drop(columns=['timestamp'], inplace=True)\n",
    "train_df"
   ],
   "execution_count": 10,
   "outputs": [
    {
     "output_type": "execute_result",
     "data": {
      "text/html": [
       "<div>\n",
       "<style scoped>\n",
       "    .dataframe tbody tr th:only-of-type {\n",
       "        vertical-align: middle;\n",
       "    }\n",
       "\n",
       "    .dataframe tbody tr th {\n",
       "        vertical-align: top;\n",
       "    }\n",
       "\n",
       "    .dataframe thead th {\n",
       "        text-align: right;\n",
       "    }\n",
       "</style>\n",
       "<table border=\"1\" class=\"dataframe\">\n",
       "  <thead>\n",
       "    <tr style=\"text-align: right;\">\n",
       "      <th></th>\n",
       "      <th>client_pin</th>\n",
       "      <th>multi_class_target</th>\n",
       "      <th>day_of_week</th>\n",
       "      <th>hour</th>\n",
       "      <th>time_interval</th>\n",
       "    </tr>\n",
       "  </thead>\n",
       "  <tbody>\n",
       "    <tr>\n",
       "      <th>68402</th>\n",
       "      <td>0</td>\n",
       "      <td>9.0</td>\n",
       "      <td>6</td>\n",
       "      <td>22</td>\n",
       "      <td>0.000000</td>\n",
       "    </tr>\n",
       "    <tr>\n",
       "      <th>4383589</th>\n",
       "      <td>0</td>\n",
       "      <td>5.0</td>\n",
       "      <td>2</td>\n",
       "      <td>18</td>\n",
       "      <td>16.837755</td>\n",
       "    </tr>\n",
       "    <tr>\n",
       "      <th>3951305</th>\n",
       "      <td>0</td>\n",
       "      <td>5.0</td>\n",
       "      <td>5</td>\n",
       "      <td>23</td>\n",
       "      <td>3.195359</td>\n",
       "    </tr>\n",
       "    <tr>\n",
       "      <th>3604467</th>\n",
       "      <td>0</td>\n",
       "      <td>5.0</td>\n",
       "      <td>3</td>\n",
       "      <td>17</td>\n",
       "      <td>4.757778</td>\n",
       "    </tr>\n",
       "    <tr>\n",
       "      <th>1579222</th>\n",
       "      <td>0</td>\n",
       "      <td>5.0</td>\n",
       "      <td>2</td>\n",
       "      <td>22</td>\n",
       "      <td>6.215139</td>\n",
       "    </tr>\n",
       "    <tr>\n",
       "      <th>...</th>\n",
       "      <td>...</td>\n",
       "      <td>...</td>\n",
       "      <td>...</td>\n",
       "      <td>...</td>\n",
       "      <td>...</td>\n",
       "    </tr>\n",
       "    <tr>\n",
       "      <th>3540598</th>\n",
       "      <td>79267</td>\n",
       "      <td>9.0</td>\n",
       "      <td>4</td>\n",
       "      <td>21</td>\n",
       "      <td>2.502801</td>\n",
       "    </tr>\n",
       "    <tr>\n",
       "      <th>4341224</th>\n",
       "      <td>79267</td>\n",
       "      <td>6.0</td>\n",
       "      <td>5</td>\n",
       "      <td>9</td>\n",
       "      <td>0.502106</td>\n",
       "    </tr>\n",
       "    <tr>\n",
       "      <th>2621133</th>\n",
       "      <td>79267</td>\n",
       "      <td>8.0</td>\n",
       "      <td>6</td>\n",
       "      <td>21</td>\n",
       "      <td>1.513900</td>\n",
       "    </tr>\n",
       "    <tr>\n",
       "      <th>682309</th>\n",
       "      <td>79267</td>\n",
       "      <td>9.0</td>\n",
       "      <td>0</td>\n",
       "      <td>4</td>\n",
       "      <td>0.273993</td>\n",
       "    </tr>\n",
       "    <tr>\n",
       "      <th>57059</th>\n",
       "      <td>79267</td>\n",
       "      <td>NaN</td>\n",
       "      <td>0</td>\n",
       "      <td>11</td>\n",
       "      <td>0.285671</td>\n",
       "    </tr>\n",
       "  </tbody>\n",
       "</table>\n",
       "<p>5144618 rows × 5 columns</p>\n",
       "</div>"
      ],
      "text/plain": [
       "         client_pin  multi_class_target  day_of_week  hour  time_interval\n",
       "68402             0                 9.0            6    22       0.000000\n",
       "4383589           0                 5.0            2    18      16.837755\n",
       "3951305           0                 5.0            5    23       3.195359\n",
       "3604467           0                 5.0            3    17       4.757778\n",
       "1579222           0                 5.0            2    22       6.215139\n",
       "...             ...                 ...          ...   ...            ...\n",
       "3540598       79267                 9.0            4    21       2.502801\n",
       "4341224       79267                 6.0            5     9       0.502106\n",
       "2621133       79267                 8.0            6    21       1.513900\n",
       "682309        79267                 9.0            0     4       0.273993\n",
       "57059         79267                 NaN            0    11       0.285671\n",
       "\n",
       "[5144618 rows x 5 columns]"
      ]
     },
     "metadata": {
      "tags": []
     },
     "execution_count": 10
    }
   ]
  },
  {
   "cell_type": "code",
   "metadata": {
    "id": "-U4c16t5k_dC",
    "colab": {
     "base_uri": "https://localhost:8080/",
     "height": 287
    },
    "outputId": "0357c9df-1fac-47b7-f295-56f7de2e9ac1"
   },
   "source": [
    "train_df.describe()"
   ],
   "execution_count": 11,
   "outputs": [
    {
     "output_type": "execute_result",
     "data": {
      "text/html": [
       "<div>\n",
       "<style scoped>\n",
       "    .dataframe tbody tr th:only-of-type {\n",
       "        vertical-align: middle;\n",
       "    }\n",
       "\n",
       "    .dataframe tbody tr th {\n",
       "        vertical-align: top;\n",
       "    }\n",
       "\n",
       "    .dataframe thead th {\n",
       "        text-align: right;\n",
       "    }\n",
       "</style>\n",
       "<table border=\"1\" class=\"dataframe\">\n",
       "  <thead>\n",
       "    <tr style=\"text-align: right;\">\n",
       "      <th></th>\n",
       "      <th>client_pin</th>\n",
       "      <th>multi_class_target</th>\n",
       "      <th>day_of_week</th>\n",
       "      <th>hour</th>\n",
       "      <th>time_interval</th>\n",
       "    </tr>\n",
       "  </thead>\n",
       "  <tbody>\n",
       "    <tr>\n",
       "      <th>count</th>\n",
       "      <td>5.144618e+06</td>\n",
       "      <td>5.065350e+06</td>\n",
       "      <td>5.144618e+06</td>\n",
       "      <td>5.144618e+06</td>\n",
       "      <td>5.144618e+06</td>\n",
       "    </tr>\n",
       "    <tr>\n",
       "      <th>mean</th>\n",
       "      <td>3.964760e+04</td>\n",
       "      <td>5.415666e+00</td>\n",
       "      <td>2.807264e+00</td>\n",
       "      <td>1.328265e+01</td>\n",
       "      <td>2.897356e+00</td>\n",
       "    </tr>\n",
       "    <tr>\n",
       "      <th>std</th>\n",
       "      <td>2.289898e+04</td>\n",
       "      <td>2.358498e+00</td>\n",
       "      <td>1.923043e+00</td>\n",
       "      <td>5.230108e+00</td>\n",
       "      <td>7.760669e+00</td>\n",
       "    </tr>\n",
       "    <tr>\n",
       "      <th>min</th>\n",
       "      <td>0.000000e+00</td>\n",
       "      <td>0.000000e+00</td>\n",
       "      <td>0.000000e+00</td>\n",
       "      <td>0.000000e+00</td>\n",
       "      <td>0.000000e+00</td>\n",
       "    </tr>\n",
       "    <tr>\n",
       "      <th>25%</th>\n",
       "      <td>1.975200e+04</td>\n",
       "      <td>5.000000e+00</td>\n",
       "      <td>1.000000e+00</td>\n",
       "      <td>1.000000e+01</td>\n",
       "      <td>1.551620e-01</td>\n",
       "    </tr>\n",
       "    <tr>\n",
       "      <th>50%</th>\n",
       "      <td>3.959300e+04</td>\n",
       "      <td>5.000000e+00</td>\n",
       "      <td>3.000000e+00</td>\n",
       "      <td>1.300000e+01</td>\n",
       "      <td>8.313657e-01</td>\n",
       "    </tr>\n",
       "    <tr>\n",
       "      <th>75%</th>\n",
       "      <td>5.946800e+04</td>\n",
       "      <td>7.000000e+00</td>\n",
       "      <td>4.000000e+00</td>\n",
       "      <td>1.700000e+01</td>\n",
       "      <td>2.506667e+00</td>\n",
       "    </tr>\n",
       "    <tr>\n",
       "      <th>max</th>\n",
       "      <td>7.926700e+04</td>\n",
       "      <td>9.000000e+00</td>\n",
       "      <td>6.000000e+00</td>\n",
       "      <td>2.300000e+01</td>\n",
       "      <td>2.673503e+02</td>\n",
       "    </tr>\n",
       "  </tbody>\n",
       "</table>\n",
       "</div>"
      ],
      "text/plain": [
       "         client_pin  multi_class_target  ...          hour  time_interval\n",
       "count  5.144618e+06        5.065350e+06  ...  5.144618e+06   5.144618e+06\n",
       "mean   3.964760e+04        5.415666e+00  ...  1.328265e+01   2.897356e+00\n",
       "std    2.289898e+04        2.358498e+00  ...  5.230108e+00   7.760669e+00\n",
       "min    0.000000e+00        0.000000e+00  ...  0.000000e+00   0.000000e+00\n",
       "25%    1.975200e+04        5.000000e+00  ...  1.000000e+01   1.551620e-01\n",
       "50%    3.959300e+04        5.000000e+00  ...  1.300000e+01   8.313657e-01\n",
       "75%    5.946800e+04        7.000000e+00  ...  1.700000e+01   2.506667e+00\n",
       "max    7.926700e+04        9.000000e+00  ...  2.300000e+01   2.673503e+02\n",
       "\n",
       "[8 rows x 5 columns]"
      ]
     },
     "metadata": {
      "tags": []
     },
     "execution_count": 11
    }
   ]
  },
  {
   "cell_type": "code",
   "metadata": {
    "id": "XnCweFElk_dD",
    "colab": {
     "base_uri": "https://localhost:8080/",
     "height": 436
    },
    "outputId": "ce5b25de-60fe-471b-d8df-5379b96aa94b"
   },
   "source": [
    "client_history_df = train_df.copy()\n",
    "client_history_df = client_history_df.groupby(by='client_pin').agg(list)\n",
    "client_history_df = client_history_df.applymap(np.array)\n",
    "client_history_df"
   ],
   "execution_count": 12,
   "outputs": [
    {
     "output_type": "execute_result",
     "data": {
      "text/html": [
       "<div>\n",
       "<style scoped>\n",
       "    .dataframe tbody tr th:only-of-type {\n",
       "        vertical-align: middle;\n",
       "    }\n",
       "\n",
       "    .dataframe tbody tr th {\n",
       "        vertical-align: top;\n",
       "    }\n",
       "\n",
       "    .dataframe thead th {\n",
       "        text-align: right;\n",
       "    }\n",
       "</style>\n",
       "<table border=\"1\" class=\"dataframe\">\n",
       "  <thead>\n",
       "    <tr style=\"text-align: right;\">\n",
       "      <th></th>\n",
       "      <th>multi_class_target</th>\n",
       "      <th>day_of_week</th>\n",
       "      <th>hour</th>\n",
       "      <th>time_interval</th>\n",
       "    </tr>\n",
       "    <tr>\n",
       "      <th>client_pin</th>\n",
       "      <th></th>\n",
       "      <th></th>\n",
       "      <th></th>\n",
       "      <th></th>\n",
       "    </tr>\n",
       "  </thead>\n",
       "  <tbody>\n",
       "    <tr>\n",
       "      <th>0</th>\n",
       "      <td>[9.0, 5.0, 5.0, 5.0, 5.0, 5.0, 5.0, 5.0, 5.0, ...</td>\n",
       "      <td>[6, 2, 5, 3, 2, 4, 5, 0, 1, 3, 3, 4, 4, 4, 5, ...</td>\n",
       "      <td>[22, 18, 23, 17, 22, 9, 17, 11, 18, 15, 17, 14...</td>\n",
       "      <td>[0.0, 16.83775462962963, 3.1953587962962966, 4...</td>\n",
       "    </tr>\n",
       "    <tr>\n",
       "      <th>1</th>\n",
       "      <td>[9.0, 9.0, nan]</td>\n",
       "      <td>[0, 4, 6]</td>\n",
       "      <td>[12, 14, 2]</td>\n",
       "      <td>[0.0, 46.1016087962963, 99.48001157407407]</td>\n",
       "    </tr>\n",
       "    <tr>\n",
       "      <th>2</th>\n",
       "      <td>[5.0, 9.0, 9.0, 5.0, 2.0, 5.0, 5.0, 5.0, 5.0, ...</td>\n",
       "      <td>[0, 6, 3, 5, 4, 0, 1, 3, 6, 3, 0, 1]</td>\n",
       "      <td>[20, 15, 19, 13, 2, 12, 10, 5, 6, 3, 17, 17]</td>\n",
       "      <td>[0.0, 12.798217592592593, 4.159016203703704, 8...</td>\n",
       "    </tr>\n",
       "    <tr>\n",
       "      <th>3</th>\n",
       "      <td>[3.0, 3.0, 3.0, 3.0, 2.0, 3.0, 3.0, 3.0, 1.0, ...</td>\n",
       "      <td>[2, 5, 5, 2, 5, 1, 2, 2, 3, 3, 3, 4, 4, 4, 5, ...</td>\n",
       "      <td>[3, 5, 11, 12, 22, 10, 20, 23, 15, 16, 23, 17,...</td>\n",
       "      <td>[0.0, 3.0655439814814813, 0.2449537037037037, ...</td>\n",
       "    </tr>\n",
       "    <tr>\n",
       "      <th>4</th>\n",
       "      <td>[5.0, 5.0, 3.0, 3.0, 9.0, 5.0, 5.0, 9.0, 5.0, ...</td>\n",
       "      <td>[6, 4, 1, 2, 0, 6, 6, 2, 2, 3, 4, 4, 5, 0, 1, ...</td>\n",
       "      <td>[15, 11, 14, 9, 6, 7, 8, 5, 19, 11, 13, 15, 6,...</td>\n",
       "      <td>[0.0, 4.872280092592592, 4.10212962962963, 0.7...</td>\n",
       "    </tr>\n",
       "    <tr>\n",
       "      <th>...</th>\n",
       "      <td>...</td>\n",
       "      <td>...</td>\n",
       "      <td>...</td>\n",
       "      <td>...</td>\n",
       "    </tr>\n",
       "    <tr>\n",
       "      <th>79263</th>\n",
       "      <td>[0.0, 9.0, 5.0, 5.0, 5.0, 5.0, 9.0, 5.0, 5.0, ...</td>\n",
       "      <td>[2, 1, 0, 0, 1, 3, 5, 1, 5, 2, 2, 3, 4, 5, 6, ...</td>\n",
       "      <td>[20, 10, 16, 17, 15, 16, 15, 8, 11, 0, 10, 18,...</td>\n",
       "      <td>[0.0, 33.604305555555555, 13.23388888888889, 0...</td>\n",
       "    </tr>\n",
       "    <tr>\n",
       "      <th>79264</th>\n",
       "      <td>[3.0, 3.0, 3.0, 3.0, 3.0, 3.0, 3.0, 3.0, 9.0, ...</td>\n",
       "      <td>[2, 2, 2, 3, 3, 3, 4, 4, 5, 5, 6, 6, 0, 1, 0, ...</td>\n",
       "      <td>[5, 17, 19, 9, 14, 17, 12, 18, 21, 22, 14, 19,...</td>\n",
       "      <td>[0.0, 0.5131134259259259, 7.07699074074074, 0....</td>\n",
       "    </tr>\n",
       "    <tr>\n",
       "      <th>79265</th>\n",
       "      <td>[3.0, 3.0, 5.0, 5.0, 3.0, 3.0, 3.0, 5.0, 5.0, ...</td>\n",
       "      <td>[0, 1, 1, 2, 0, 4, 5, 0, 1, 1, 2, 3, 4, 4, 6, ...</td>\n",
       "      <td>[10, 10, 11, 13, 10, 16, 11, 13, 2, 5, 14, 18,...</td>\n",
       "      <td>[0.0, 0.9916550925925925, 0.05893518518518518,...</td>\n",
       "    </tr>\n",
       "    <tr>\n",
       "      <th>79266</th>\n",
       "      <td>[7.0, 7.0, 5.0, 7.0, 7.0, 7.0, 2.0, 5.0, 7.0, ...</td>\n",
       "      <td>[2, 5, 6, 6, 6, 0, 2, 3, 4, 5, 6, 2, 3, 2, 3, ...</td>\n",
       "      <td>[19, 12, 8, 10, 16, 13, 5, 7, 8, 5, 6, 16, 13,...</td>\n",
       "      <td>[0.0, 2.7060648148148148, 0.8176851851851853, ...</td>\n",
       "    </tr>\n",
       "    <tr>\n",
       "      <th>79267</th>\n",
       "      <td>[5.0, 5.0, 8.0, 8.0, 0.0, 5.0, 5.0, 5.0, 5.0, ...</td>\n",
       "      <td>[2, 5, 5, 5, 0, 3, 4, 4, 5, 1, 2, 3, 3, 3, 3, ...</td>\n",
       "      <td>[13, 13, 16, 18, 20, 12, 10, 15, 15, 20, 17, 1...</td>\n",
       "      <td>[0.0, 3.0031134259259264, 0.09443287037037039,...</td>\n",
       "    </tr>\n",
       "  </tbody>\n",
       "</table>\n",
       "<p>79268 rows × 4 columns</p>\n",
       "</div>"
      ],
      "text/plain": [
       "                                           multi_class_target  ...                                      time_interval\n",
       "client_pin                                                     ...                                                   \n",
       "0           [9.0, 5.0, 5.0, 5.0, 5.0, 5.0, 5.0, 5.0, 5.0, ...  ...  [0.0, 16.83775462962963, 3.1953587962962966, 4...\n",
       "1                                             [9.0, 9.0, nan]  ...         [0.0, 46.1016087962963, 99.48001157407407]\n",
       "2           [5.0, 9.0, 9.0, 5.0, 2.0, 5.0, 5.0, 5.0, 5.0, ...  ...  [0.0, 12.798217592592593, 4.159016203703704, 8...\n",
       "3           [3.0, 3.0, 3.0, 3.0, 2.0, 3.0, 3.0, 3.0, 1.0, ...  ...  [0.0, 3.0655439814814813, 0.2449537037037037, ...\n",
       "4           [5.0, 5.0, 3.0, 3.0, 9.0, 5.0, 5.0, 9.0, 5.0, ...  ...  [0.0, 4.872280092592592, 4.10212962962963, 0.7...\n",
       "...                                                       ...  ...                                                ...\n",
       "79263       [0.0, 9.0, 5.0, 5.0, 5.0, 5.0, 9.0, 5.0, 5.0, ...  ...  [0.0, 33.604305555555555, 13.23388888888889, 0...\n",
       "79264       [3.0, 3.0, 3.0, 3.0, 3.0, 3.0, 3.0, 3.0, 9.0, ...  ...  [0.0, 0.5131134259259259, 7.07699074074074, 0....\n",
       "79265       [3.0, 3.0, 5.0, 5.0, 3.0, 3.0, 3.0, 5.0, 5.0, ...  ...  [0.0, 0.9916550925925925, 0.05893518518518518,...\n",
       "79266       [7.0, 7.0, 5.0, 7.0, 7.0, 7.0, 2.0, 5.0, 7.0, ...  ...  [0.0, 2.7060648148148148, 0.8176851851851853, ...\n",
       "79267       [5.0, 5.0, 8.0, 8.0, 0.0, 5.0, 5.0, 5.0, 5.0, ...  ...  [0.0, 3.0031134259259264, 0.09443287037037039,...\n",
       "\n",
       "[79268 rows x 4 columns]"
      ]
     },
     "metadata": {
      "tags": []
     },
     "execution_count": 12
    }
   ]
  },
  {
   "cell_type": "code",
   "metadata": {
    "id": "nPeZap69aOjB",
    "colab": {
     "base_uri": "https://localhost:8080/"
    },
    "outputId": "ba5335b7-7de6-45af-aea5-c59f0a183a69"
   },
   "source": [
    "feature_names = list(client_history_df)\n",
    "print('feature_names = ', feature_names)"
   ],
   "execution_count": 13,
   "outputs": [
    {
     "output_type": "stream",
     "text": [
      "feature_names =  ['multi_class_target', 'day_of_week', 'hour', 'time_interval']\n"
     ],
     "name": "stdout"
    }
   ]
  },
  {
   "cell_type": "code",
   "metadata": {
    "id": "vbxm4dbKk_dD"
   },
   "source": [
    "clients_history_np = client_history_df.to_numpy()\n",
    "client_history_df = None"
   ],
   "execution_count": 14,
   "outputs": []
  },
  {
   "cell_type": "code",
   "metadata": {
    "id": "0s_mr-IdaEWp"
   },
   "source": [
    "client_history_df"
   ],
   "execution_count": 15,
   "outputs": []
  },
  {
   "cell_type": "code",
   "metadata": {
    "colab": {
     "base_uri": "https://localhost:8080/"
    },
    "id": "SiR2UVZfLlQl",
    "outputId": "2371487c-1bba-421d-f642-fdac99611b4f"
   },
   "source": [
    "print('History for the first client')\n",
    "for feature_history, feature_name in zip(clients_history_np[0], feature_names):\n",
    "    print(f'size  for feature \"{feature_name}\" is {np.size(feature_history)}')\n",
    "    pp.pprint(feature_history)\n",
    "    print('.'*75)\n",
    "\n",
    "print(\"clients_history shape = \", clients_history_np.shape)"
   ],
   "execution_count": 16,
   "outputs": [
    {
     "output_type": "stream",
     "text": [
      "History for the first client\n",
      "size  for feature \"multi_class_target\" is 132\n",
      "array([ 9.,  5.,  5.,  5.,  5.,  5.,  5.,  5.,  5.,  5.,  5.,  5.,  5.,\n",
      "        5.,  5.,  5.,  5.,  5.,  5.,  5.,  5.,  5.,  5.,  5.,  5.,  5.,\n",
      "        5.,  5.,  5.,  5.,  5.,  5.,  5.,  5.,  5.,  5.,  5.,  5.,  5.,\n",
      "        6.,  9.,  5.,  5.,  5.,  5.,  5.,  5.,  5.,  5.,  5.,  5.,  5.,\n",
      "        5.,  5.,  5.,  5.,  5.,  5.,  5.,  5.,  5.,  5.,  5.,  5.,  5.,\n",
      "        5.,  5.,  5.,  5.,  5.,  5.,  5.,  5.,  5.,  5.,  5.,  5.,  5.,\n",
      "        5.,  5.,  5.,  5.,  5.,  6.,  5.,  5.,  5.,  5.,  5.,  5.,  5.,\n",
      "        5.,  5.,  5.,  5.,  5.,  5.,  5.,  5.,  5.,  5.,  5.,  5.,  5.,\n",
      "        5.,  5.,  5.,  5.,  5.,  5.,  5.,  5.,  5.,  5.,  5.,  5.,  5.,\n",
      "        5.,  5.,  5.,  5.,  5.,  5.,  5.,  5.,  5.,  5.,  5.,  5.,  5.,\n",
      "        5., nan])\n",
      "...........................................................................\n",
      "size  for feature \"day_of_week\" is 132\n",
      "array([6, 2, 5, 3, 2, 4, 5, 0, 1, 3, 3, 4, 4, 4, 5, 6, 6, 3, 1, 2, 5, 5,\n",
      "       5, 6, 6, 0, 0, 0, 5, 0, 4, 4, 5, 2, 0, 2, 4, 4, 5, 5, 5, 6, 0, 0,\n",
      "       0, 0, 2, 3, 6, 4, 4, 4, 4, 5, 0, 0, 0, 1, 1, 1, 2, 2, 3, 3, 3, 0,\n",
      "       0, 0, 0, 2, 2, 2, 2, 3, 0, 0, 0, 4, 0, 3, 0, 2, 1, 2, 3, 3, 4, 4,\n",
      "       6, 0, 0, 2, 3, 1, 2, 3, 3, 0, 4, 4, 4, 4, 5, 0, 0, 1, 2, 2, 2, 4,\n",
      "       5, 5, 0, 0, 1, 1, 2, 3, 4, 0, 1, 3, 3, 3, 4, 0, 2, 3, 3, 4, 4, 5])\n",
      "...........................................................................\n",
      "size  for feature \"hour\" is 132\n",
      "array([22, 18, 23, 17, 22,  9, 17, 11, 18, 15, 17, 14, 16, 19, 10,  9, 10,\n",
      "       13, 20,  8,  9, 16, 20,  0, 10, 12, 13, 16, 16, 15, 17, 18, 14, 19,\n",
      "       15, 22, 11, 18,  1, 11, 20, 17,  9, 14, 19, 22, 17, 13, 22, 12, 14,\n",
      "       17, 20,  7, 12, 17, 20,  1, 12, 22, 14, 22, 13, 16, 22, 11, 17, 19,\n",
      "       21, 12, 13, 14, 15, 10, 10, 12, 19, 18, 21,  1, 11,  6,  8,  9, 11,\n",
      "       22,  9, 10, 16, 15, 22, 12, 16, 19, 14, 19, 23, 19,  6, 16, 20, 16,\n",
      "       11, 11, 19, 14, 15, 19, 23, 13, 16, 23, 11, 12,  9, 18, 23, 19, 19,\n",
      "       12, 20,  9, 15, 18, 19, 17, 10, 11, 23,  9, 16, 14])\n",
      "...........................................................................\n",
      "size  for feature \"time_interval\" is 132\n",
      "array([ 0.    , 16.8378,  3.1954,  4.7578,  6.2151,  1.4582,  1.318 ,\n",
      "        1.7588,  1.2828,  1.8683,  0.0917,  0.8897,  0.0594,  0.1527,\n",
      "        0.6195,  0.9546,  0.0464,  4.1193,  5.3004,  0.4884,  3.0611,\n",
      "        0.2662,  0.1609,  0.1625,  0.4183,  1.0788,  0.0523,  0.1248,\n",
      "        5.0014,  1.9647,  4.0655,  0.0657,  0.8404,  4.2102,  4.8072,\n",
      "        2.2885,  1.5747,  0.278 ,  0.2823,  0.4151,  0.3673,  0.9068,\n",
      "        0.6707,  0.2068,  0.1957,  0.1076,  1.8017,  0.8181,  3.4004,\n",
      "       11.5734,  0.0832,  0.1221,  0.1153,  0.4584,  2.2429,  0.1834,\n",
      "        0.1432,  0.1959,  0.4415,  0.4455,  0.6613,  0.3375,  0.6312,\n",
      "        0.1095,  0.2661,  3.5305,  0.2252,  0.097 ,  0.0969,  1.6231,\n",
      "        0.0354,  0.022 ,  0.0494,  0.8153,  3.9984,  0.0709,  0.2959,\n",
      "        3.9477,  3.1248,  2.1599,  4.4281,  1.781 ,  6.0997,  1.0207,\n",
      "        1.0812,  0.4697,  0.4692,  0.0285,  2.2459,  0.9837,  0.2616,\n",
      "        1.6013,  1.1545,  5.1361,  0.8004,  1.2166,  0.1562,  3.823 ,\n",
      "        3.4605,  0.4127,  0.1581,  6.8679,  0.7628,  1.9915,  0.3367,\n",
      "        0.8234,  1.0421,  0.1346,  0.1863,  1.5831,  1.1038,  0.3081,\n",
      "        1.5155,  0.0408,  0.8713,  0.3464,  1.2177,  0.8598,  0.9708,\n",
      "       16.7352,  1.3083,  1.5441,  0.2515,  0.1179,  1.0652,  2.9067,\n",
      "        1.7059,  1.0345,  0.5223,  0.3944,  0.2963,  0.9331])\n",
      "...........................................................................\n",
      "clients_history shape =  (79268, 4)\n"
     ],
     "name": "stdout"
    }
   ]
  },
  {
   "cell_type": "markdown",
   "metadata": {
    "id": "zLteE8Jck_dD"
   },
   "source": [
    " ## 2. Create train and test datasets"
   ]
  },
  {
   "cell_type": "code",
   "metadata": {
    "id": "o4ybOVEsftGM"
   },
   "source": [
    "MAX_HISTORY_SIZE = 30\n",
    "import data_utils\n",
    "importlib.reload(data_utils)\n",
    "from data_utils import create_test_dataset, split_history, expand_by_nan, subsamples, create_train_dataset"
   ],
   "execution_count": 17,
   "outputs": []
  },
  {
   "cell_type": "code",
   "metadata": {
    "colab": {
     "base_uri": "https://localhost:8080/"
    },
    "id": "YtZpaY4wk_dF",
    "outputId": "ec98197b-4769-4494-95a0-0c83a56ddccf"
   },
   "source": [
    "X,y = create_train_dataset(clients_history_np, MAX_HISTORY_SIZE)\n",
    "to_test_dataset = create_test_dataset(clients_history_np, MAX_HISTORY_SIZE)"
   ],
   "execution_count": 18,
   "outputs": [
    {
     "output_type": "stream",
     "text": [
      "Progress to prepare datasets... \n",
      "...............................................................................\n",
      "................................................................................\n",
      "X size =  43261\n",
      "y size =  43261\n",
      "X_set shape =  (3279904, 119)\n",
      "y_set shape =  (3279904,)\n",
      "to_test_dataset len =  754\n"
     ],
     "name": "stdout"
    }
   ]
  },
  {
   "cell_type": "code",
   "metadata": {
    "colab": {
     "base_uri": "https://localhost:8080/"
    },
    "id": "Fo6CnV1Wm38l",
    "outputId": "b0754577-78f6-4d1c-c506-b155b7571c83"
   },
   "source": [
    "X_train, X_test, y_train, y_test = train_test_split(\n",
    "    X, y, shuffle=False, test_size=0.2)\n",
    "print(\"X_train shape = \", X_train.shape)\n",
    "print(\"X_test shape = \", X_test.shape)\n",
    "print(\"y_train shape = \", y_train.shape)\n",
    "print(\"y_test shape = \", y_test.shape)"
   ],
   "execution_count": 19,
   "outputs": [
    {
     "output_type": "stream",
     "text": [
      "X_train shape =  (2623923, 119)\n",
      "X_test shape =  (655981, 119)\n",
      "y_train shape =  (2623923,)\n",
      "y_test shape =  (655981,)\n"
     ],
     "name": "stdout"
    }
   ]
  },
  {
   "cell_type": "markdown",
   "metadata": {
    "id": "nCNV7--Mk_dG"
   },
   "source": [
    " ## 3. Create and fit models\n"
   ]
  },
  {
   "cell_type": "code",
   "metadata": {
    "colab": {
     "base_uri": "https://localhost:8080/"
    },
    "id": "974pDeHgk_dI",
    "outputId": "9a237e2d-8946-426b-9932-98c6651d41c4"
   },
   "source": [
    "w = create_weights(np.array(y_train, dtype=np.int), 0.5)\n",
    "w[:25]"
   ],
   "execution_count": 20,
   "outputs": [
    {
     "output_type": "stream",
     "text": [
      "[0 1 2 3 4 5 6 7 8 9]\n"
     ],
     "name": "stdout"
    },
    {
     "output_type": "execute_result",
     "data": {
      "text/plain": [
       "[0.21836182217635897,\n",
       " 0.21836182217635897,\n",
       " 0.21836182217635897,\n",
       " 0.21836182217635897,\n",
       " 0.21836182217635897,\n",
       " 0.21836182217635897,\n",
       " 0.21836182217635897,\n",
       " 0.21836182217635897,\n",
       " 0.21836182217635897,\n",
       " 0.21836182217635897,\n",
       " 1.8929165043500844,\n",
       " 0.5131022871266994,\n",
       " 0.21836182217635897,\n",
       " 0.21836182217635897,\n",
       " 0.21836182217635897,\n",
       " 0.21836182217635897,\n",
       " 0.21836182217635897,\n",
       " 0.21836182217635897,\n",
       " 0.21836182217635897,\n",
       " 0.21836182217635897,\n",
       " 0.21836182217635897,\n",
       " 0.21836182217635897,\n",
       " 0.21836182217635897,\n",
       " 0.21836182217635897,\n",
       " 0.21836182217635897]"
      ]
     },
     "metadata": {
      "tags": []
     },
     "execution_count": 20
    }
   ]
  },
  {
   "cell_type": "code",
   "metadata": {
    "id": "Ea3RNjyYk_dJ",
    "colab": {
     "base_uri": "https://localhost:8080/"
    },
    "outputId": "3a1856e3-c3d6-4f9b-fdd2-e388d1c7cf4b"
   },
   "source": [
    "model = xgb.XGBClassifier(objective='multi:softmax',\n",
    "                          n_estimators=500,\n",
    "                          tree_method='gpu_hist',\n",
    "                          learning_rate=0.02,\n",
    "                          num_class=10,\n",
    "                          reg_alph=0.3, \n",
    "                          reg_lambda=0.2,\n",
    "                          max_depth=4, \n",
    "                          n_jobs=-1)\n",
    "model.fit(X_train, y_train, verbose=True)"
   ],
   "execution_count": 21,
   "outputs": [
    {
     "output_type": "execute_result",
     "data": {
      "text/plain": [
       "XGBClassifier(base_score=0.5, booster='gbtree', colsample_bylevel=1,\n",
       "              colsample_bynode=1, colsample_bytree=1, gamma=0,\n",
       "              learning_rate=0.02, max_delta_step=0, max_depth=4,\n",
       "              min_child_weight=1, missing=None, n_estimators=500, n_jobs=-1,\n",
       "              nthread=None, num_class=10, objective='multi:softprob',\n",
       "              random_state=0, reg_alph=0.3, reg_alpha=0, reg_lambda=0.2,\n",
       "              scale_pos_weight=1, seed=None, silent=None, subsample=1,\n",
       "              tree_method='gpu_hist', verbosity=1)"
      ]
     },
     "metadata": {
      "tags": []
     },
     "execution_count": 21
    }
   ]
  },
  {
   "cell_type": "code",
   "metadata": {
    "id": "446EcEAdk_dJ",
    "colab": {
     "base_uri": "https://localhost:8080/"
    },
    "outputId": "b4f2b437-b787-47db-9652-38cdfe0ee687"
   },
   "source": [
    "pred = model.predict(X_train)\n",
    "print('Train f1-score = ', sklearn.metrics.f1_score(pred, y_train, average='macro'))\n",
    "pred = model.predict(X_test)\n",
    "print('Test f1-score = ', sklearn.metrics.f1_score(pred, y_test, average='macro'))"
   ],
   "execution_count": 22,
   "outputs": [
    {
     "output_type": "stream",
     "text": [
      "Train f1-score =  0.46638964361832835\n",
      "Test f1-score =  0.46547576532440627\n"
     ],
     "name": "stdout"
    }
   ]
  },
  {
   "cell_type": "markdown",
   "metadata": {
    "id": "EtBPph5otjTC"
   },
   "source": [
    "## 3.1  Model validation"
   ]
  },
  {
   "cell_type": "code",
   "metadata": {
    "colab": {
     "base_uri": "https://localhost:8080/",
     "height": 511
    },
    "id": "_2AB6Malh2iT",
    "outputId": "2f243b36-38ed-48fc-d7ea-adf7a4be0317"
   },
   "source": [
    "test_pred = []\n",
    "test_target = []\n",
    "\n",
    "sample_lenghts = []\n",
    "f1_scores = []\n",
    "accuracy_scores = []\n",
    "\n",
    "i = 0\n",
    "print(f'Prediction is performing (len = {len(to_test_dataset)})... ')\n",
    "progres_bar_delta = 10\n",
    "print('.'*(len(to_test_dataset)//progres_bar_delta))\n",
    "\n",
    "for n in list(to_test_dataset.keys()):\n",
    "    i += 1\n",
    "    if i % progres_bar_delta == 0:\n",
    "        print('.', end='')\n",
    "\n",
    "    X_n = []\n",
    "    test_target_n = []\n",
    "\n",
    "    for (y_i, x) in to_test_dataset[n]:\n",
    "        test_target.append(y_i)\n",
    "        test_target_n.append(y_i)\n",
    "        X_n.append(x)\n",
    "\n",
    "    X_n = np.stack(X_n)\n",
    "\n",
    "    test_pred_n = model.predict(X_n)\n",
    "    test_pred.append(test_pred_n)\n",
    "\n",
    "    f1_score = sklearn.metrics.f1_score(test_target_n, test_pred_n, average='macro')\n",
    "    accuracy = sklearn.metrics.accuracy_score(test_target_n, test_pred_n)\n",
    "\n",
    "    f1_scores.append(f1_score)\n",
    "    accuracy_scores.append(accuracy)\n",
    "    sample_lenghts.append(n)\n",
    "\n",
    "test_pred = np.concatenate(test_pred)\n",
    "f1_score = sklearn.metrics.f1_score(test_target, test_pred, average='macro')\n",
    "accuracy = sklearn.metrics.accuracy_score(test_target, test_pred)\n",
    "print()\n",
    "print('------------------ MODEL SCORES ------------------')\n",
    "print('f1-score = ', f1_score)\n",
    "print('accuracy = ', accuracy)\n",
    "print('------------------              ------------------')\n",
    "print()\n",
    "scores_df = pd.DataFrame({'sample_len': sample_lenghts,\n",
    "                          'f1-score': f1_scores, 'accuracy': accuracy_scores})\n",
    "scores_df.plot.scatter(x='sample_len', y='f1-score', s=1, c='blue')\n",
    "plt.show()"
   ],
   "execution_count": 23,
   "outputs": [
    {
     "output_type": "stream",
     "text": [
      "Prediction is performing (len = 754)... \n",
      "...........................................................................\n",
      "...........................................................................\n",
      "------------------ MODEL SCORES ------------------\n",
      "f1-score =  0.3851060683351182\n",
      "accuracy =  0.5505017325552937\n",
      "------------------              ------------------\n",
      "\n"
     ],
     "name": "stdout"
    },
    {
     "output_type": "display_data",
     "data": {
      "image/png": "[encoded data removed]",
      "text/plain": [
       "<Figure size 1000x400 with 1 Axes>"
      ]
     },
     "metadata": {
      "tags": []
     }
    }
   ]
  },
  {
   "cell_type": "code",
   "metadata": {
    "colab": {
     "base_uri": "https://localhost:8080/",
     "height": 474
    },
    "id": "z_GzLwYFhjFD",
    "outputId": "269099b7-cfae-46a1-eb8b-685132c9cbee"
   },
   "source": [
    "plt.barh(range(len(model.feature_importances_)), model.feature_importances_);"
   ],
   "execution_count": 54,
   "outputs": [
    {
     "output_type": "display_data",
     "data": {
      "image/png": "[encoded data removed]",
      "text/plain": [
       "<Figure size 800x550 with 1 Axes>"
      ]
     },
     "metadata": {
      "tags": []
     }
    }
   ]
  },
  {
   "cell_type": "code",
   "metadata": {
    "colab": {
     "base_uri": "https://localhost:8080/"
    },
    "id": "f8r8fR8gjxR8",
    "outputId": "2dcc3e01-799f-4d82-d9d1-ee49a715d8e3"
   },
   "source": [
    "pp.pprint(model.feature_importances_)"
   ],
   "execution_count": 53,
   "outputs": [
    {
     "output_type": "stream",
     "text": [
      "array([0.013 , 0.0143, 0.0144, 0.0146, 0.0147, 0.0169, 0.0184, 0.0225,\n",
      "       0.0215, 0.0216, 0.0216, 0.0203, 0.0261, 0.0226, 0.0288, 0.0255,\n",
      "       0.0302, 0.0318, 0.0368, 0.0367, 0.0375, 0.0428, 0.046 , 0.0495,\n",
      "       0.0524, 0.0631, 0.0616, 0.056 , 0.0934, 0.0002, 0.0003, 0.0003,\n",
      "       0.0003, 0.    , 0.    , 0.0002, 0.0003, 0.0003, 0.0002, 0.0002,\n",
      "       0.0002, 0.0003, 0.0002, 0.0002, 0.0003, 0.0003, 0.0003, 0.0002,\n",
      "       0.0002, 0.    , 0.0003, 0.0003, 0.0002, 0.0004, 0.0004, 0.0005,\n",
      "       0.0003, 0.0004, 0.0018, 0.0003, 0.0003, 0.0003, 0.0003, 0.0003,\n",
      "       0.0003, 0.0004, 0.0003, 0.0003, 0.0007, 0.0003, 0.0004, 0.0003,\n",
      "       0.0004, 0.0003, 0.0003, 0.0004, 0.0006, 0.0004, 0.0003, 0.0004,\n",
      "       0.0003, 0.0003, 0.0004, 0.0004, 0.0003, 0.0003, 0.0004, 0.0008,\n",
      "       0.0029, 0.0005, 0.0004, 0.0004, 0.0005, 0.0005, 0.0004, 0.0004,\n",
      "       0.0004, 0.0003, 0.0005, 0.0004, 0.0004, 0.0004, 0.0004, 0.0004,\n",
      "       0.0005, 0.0005, 0.0007, 0.0005, 0.0008, 0.0006, 0.0006, 0.0007,\n",
      "       0.0011, 0.0009, 0.0008, 0.001 , 0.0012, 0.0019, 0.0043],\n",
      "      dtype=float32)\n"
     ],
     "name": "stdout"
    }
   ]
  },
  {
   "cell_type": "markdown",
   "metadata": {
    "id": "nmk5w_kNr8tH"
   },
   "source": [
    "### 4. Save results"
   ]
  },
  {
   "cell_type": "code",
   "metadata": {
    "id": "tt3hpIbJk_dK",
    "colab": {
     "base_uri": "https://localhost:8080/"
    },
    "outputId": "ed669a80-550e-4aa1-cea6-a2ed97f67beb"
   },
   "source": [
    "X_res = []\n",
    "to_download = []\n",
    "\n",
    "for client_history in clients_history_np:\n",
    "    F = []\n",
    "    # delete nan\n",
    "    previous_targets = client_history[0][:-1]\n",
    "    F.append(expand_by_nan(previous_targets, MAX_HISTORY_SIZE-1))\n",
    "    for f in client_history[1:]:\n",
    "        truncated_f = f\n",
    "        F.append(expand_by_nan(truncated_f, MAX_HISTORY_SIZE))\n",
    "    F = np.hstack(F)\n",
    "    to_download.append(F)\n",
    "\n",
    "print('to download len = ', len(to_download))"
   ],
   "execution_count": 56,
   "outputs": [
    {
     "output_type": "stream",
     "text": [
      "to download len =  79268\n"
     ],
     "name": "stdout"
    }
   ]
  },
  {
   "cell_type": "code",
   "metadata": {
    "id": "jmTmhCIDk_dL"
   },
   "source": [
    "X = np.vstack(to_download)\n",
    "prediction = model.predict(X)\n",
    "prediction = np.array(prediction, dtype=np.int)"
   ],
   "execution_count": 57,
   "outputs": []
  },
  {
   "cell_type": "code",
   "metadata": {
    "id": "-6JvvQkbk_dM",
    "colab": {
     "base_uri": "https://localhost:8080/",
     "height": 406
    },
    "outputId": "2cec653c-650d-4dae-8035-61dc11b52b69"
   },
   "source": [
    "total_pred_df = pd.DataFrame.from_dict({\"client_pin\": [i for i in range(\n",
    "    0, len(prediction))], \"multi_class_target\": prediction})\n",
    "total_pred_df"
   ],
   "execution_count": 58,
   "outputs": [
    {
     "output_type": "execute_result",
     "data": {
      "text/html": [
       "<div>\n",
       "<style scoped>\n",
       "    .dataframe tbody tr th:only-of-type {\n",
       "        vertical-align: middle;\n",
       "    }\n",
       "\n",
       "    .dataframe tbody tr th {\n",
       "        vertical-align: top;\n",
       "    }\n",
       "\n",
       "    .dataframe thead th {\n",
       "        text-align: right;\n",
       "    }\n",
       "</style>\n",
       "<table border=\"1\" class=\"dataframe\">\n",
       "  <thead>\n",
       "    <tr style=\"text-align: right;\">\n",
       "      <th></th>\n",
       "      <th>client_pin</th>\n",
       "      <th>multi_class_target</th>\n",
       "    </tr>\n",
       "  </thead>\n",
       "  <tbody>\n",
       "    <tr>\n",
       "      <th>0</th>\n",
       "      <td>0</td>\n",
       "      <td>5</td>\n",
       "    </tr>\n",
       "    <tr>\n",
       "      <th>1</th>\n",
       "      <td>1</td>\n",
       "      <td>9</td>\n",
       "    </tr>\n",
       "    <tr>\n",
       "      <th>2</th>\n",
       "      <td>2</td>\n",
       "      <td>5</td>\n",
       "    </tr>\n",
       "    <tr>\n",
       "      <th>3</th>\n",
       "      <td>3</td>\n",
       "      <td>5</td>\n",
       "    </tr>\n",
       "    <tr>\n",
       "      <th>4</th>\n",
       "      <td>4</td>\n",
       "      <td>5</td>\n",
       "    </tr>\n",
       "    <tr>\n",
       "      <th>...</th>\n",
       "      <td>...</td>\n",
       "      <td>...</td>\n",
       "    </tr>\n",
       "    <tr>\n",
       "      <th>79263</th>\n",
       "      <td>79263</td>\n",
       "      <td>9</td>\n",
       "    </tr>\n",
       "    <tr>\n",
       "      <th>79264</th>\n",
       "      <td>79264</td>\n",
       "      <td>3</td>\n",
       "    </tr>\n",
       "    <tr>\n",
       "      <th>79265</th>\n",
       "      <td>79265</td>\n",
       "      <td>3</td>\n",
       "    </tr>\n",
       "    <tr>\n",
       "      <th>79266</th>\n",
       "      <td>79266</td>\n",
       "      <td>7</td>\n",
       "    </tr>\n",
       "    <tr>\n",
       "      <th>79267</th>\n",
       "      <td>79267</td>\n",
       "      <td>9</td>\n",
       "    </tr>\n",
       "  </tbody>\n",
       "</table>\n",
       "<p>79268 rows × 2 columns</p>\n",
       "</div>"
      ],
      "text/plain": [
       "       client_pin  multi_class_target\n",
       "0               0                   5\n",
       "1               1                   9\n",
       "2               2                   5\n",
       "3               3                   5\n",
       "4               4                   5\n",
       "...           ...                 ...\n",
       "79263       79263                   9\n",
       "79264       79264                   3\n",
       "79265       79265                   3\n",
       "79266       79266                   7\n",
       "79267       79267                   9\n",
       "\n",
       "[79268 rows x 2 columns]"
      ]
     },
     "metadata": {
      "tags": []
     },
     "execution_count": 58
    }
   ]
  },
  {
   "cell_type": "code",
   "metadata": {
    "id": "Nv4433EHk_dM",
    "colab": {
     "base_uri": "https://localhost:8080/",
     "height": 406
    },
    "outputId": "6eab20a3-3d7b-45a0-8fa8-cfb8a572644d"
   },
   "source": [
    "total_pred_df = timestamps_to_predict.join(\n",
    "    total_pred_df, on='client_pin', lsuffix='l')\n",
    "total_pred_df.drop(columns=['timestamp', 'client_pinl'], inplace=True)\n",
    "total_pred_df.client_pin = client_pin_encoder.inverse_transform(\n",
    "    total_pred_df.client_pin)\n",
    "total_pred_df.multi_class_target = target_action_encoder.inverse_transform(\n",
    "    total_pred_df.multi_class_target)\n",
    "total_pred_df"
   ],
   "execution_count": 59,
   "outputs": [
    {
     "output_type": "execute_result",
     "data": {
      "text/html": [
       "<div>\n",
       "<style scoped>\n",
       "    .dataframe tbody tr th:only-of-type {\n",
       "        vertical-align: middle;\n",
       "    }\n",
       "\n",
       "    .dataframe tbody tr th {\n",
       "        vertical-align: top;\n",
       "    }\n",
       "\n",
       "    .dataframe thead th {\n",
       "        text-align: right;\n",
       "    }\n",
       "</style>\n",
       "<table border=\"1\" class=\"dataframe\">\n",
       "  <thead>\n",
       "    <tr style=\"text-align: right;\">\n",
       "      <th></th>\n",
       "      <th>client_pin</th>\n",
       "      <th>multi_class_target</th>\n",
       "    </tr>\n",
       "  </thead>\n",
       "  <tbody>\n",
       "    <tr>\n",
       "      <th>0</th>\n",
       "      <td>f0c674b2bb4dc64be607029271d706ec</td>\n",
       "      <td>credit_info</td>\n",
       "    </tr>\n",
       "    <tr>\n",
       "      <th>1</th>\n",
       "      <td>90725b54ce77576883813d87749df6bd</td>\n",
       "      <td>main_screen</td>\n",
       "    </tr>\n",
       "    <tr>\n",
       "      <th>2</th>\n",
       "      <td>eb0f82d74c7b7bd5eafbd5b5f8cb3e2a</td>\n",
       "      <td>main_screen</td>\n",
       "    </tr>\n",
       "    <tr>\n",
       "      <th>3</th>\n",
       "      <td>831bf4c0ecccc55e536b8cfb9153d672</td>\n",
       "      <td>statement</td>\n",
       "    </tr>\n",
       "    <tr>\n",
       "      <th>4</th>\n",
       "      <td>3f1a5a1c492ce877af833113e59c5797</td>\n",
       "      <td>main_screen</td>\n",
       "    </tr>\n",
       "    <tr>\n",
       "      <th>...</th>\n",
       "      <td>...</td>\n",
       "      <td>...</td>\n",
       "    </tr>\n",
       "    <tr>\n",
       "      <th>79263</th>\n",
       "      <td>4e46e206d38dcb7af41d9ced20d50ac2</td>\n",
       "      <td>statement</td>\n",
       "    </tr>\n",
       "    <tr>\n",
       "      <th>79264</th>\n",
       "      <td>5b59bf5bd1e07775b1bc95dd7151d2cd</td>\n",
       "      <td>main_screen</td>\n",
       "    </tr>\n",
       "    <tr>\n",
       "      <th>79265</th>\n",
       "      <td>94bcc852dd7f806f6c733056d1b0be7b</td>\n",
       "      <td>statement</td>\n",
       "    </tr>\n",
       "    <tr>\n",
       "      <th>79266</th>\n",
       "      <td>2061f779928217eea2878fd3b605fafd</td>\n",
       "      <td>main_screen</td>\n",
       "    </tr>\n",
       "    <tr>\n",
       "      <th>79267</th>\n",
       "      <td>e2f0cede9e3bc3d6ed7c77c4e08af136</td>\n",
       "      <td>main_screen</td>\n",
       "    </tr>\n",
       "  </tbody>\n",
       "</table>\n",
       "<p>79268 rows × 2 columns</p>\n",
       "</div>"
      ],
      "text/plain": [
       "                             client_pin multi_class_target\n",
       "0      f0c674b2bb4dc64be607029271d706ec        credit_info\n",
       "1      90725b54ce77576883813d87749df6bd        main_screen\n",
       "2      eb0f82d74c7b7bd5eafbd5b5f8cb3e2a        main_screen\n",
       "3      831bf4c0ecccc55e536b8cfb9153d672          statement\n",
       "4      3f1a5a1c492ce877af833113e59c5797        main_screen\n",
       "...                                 ...                ...\n",
       "79263  4e46e206d38dcb7af41d9ced20d50ac2          statement\n",
       "79264  5b59bf5bd1e07775b1bc95dd7151d2cd        main_screen\n",
       "79265  94bcc852dd7f806f6c733056d1b0be7b          statement\n",
       "79266  2061f779928217eea2878fd3b605fafd        main_screen\n",
       "79267  e2f0cede9e3bc3d6ed7c77c4e08af136        main_screen\n",
       "\n",
       "[79268 rows x 2 columns]"
      ]
     },
     "metadata": {
      "tags": []
     },
     "execution_count": 59
    }
   ]
  },
  {
   "cell_type": "code",
   "metadata": {
    "id": "J3Y10fjSk_dM"
   },
   "source": [
    "total_pred_df.to_csv('result-boosting.csv', index=False)"
   ],
   "execution_count": 60,
   "outputs": []
  }
 ]
}